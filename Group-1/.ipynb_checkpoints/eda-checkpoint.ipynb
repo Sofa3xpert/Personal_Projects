{
 "cells": [
  {
   "metadata": {},
   "cell_type": "markdown",
   "source": [
    "# Exploratory Data Analysis (EDA) for Mental Health Dataset Splits\n",
    "\n",
    "This notebook performs an in-depth exploratory data analysis (EDA) on the train, validation, and test splits of our mental health dataset. In this notebook we will do:\n",
    "\n",
    "1. **Basic Dataset Overview**\n",
    "   - Display dataset dimensions.\n",
    "   - Show column names and data types.\n",
    "   - Verify that there are no missing values in the `statement` and `status` columns.\n",
    "\n",
    "2. **Label Distribution (Class Imbalance)**\n",
    "   - Compute frequency and percentage of each label in the splits.\n",
    "   - Plot bar charts to visualize the label distribution.\n",
    "   - Confirm that stratification preserved label proportions across splits.\n",
    "\n",
    "3. **Text Length Analysis**\n",
    "   - Compute statistics (min, max, median, mean) for statement lengths (using token counts).\n",
    "   - Plot histograms of the text lengths overall and by label.\n",
    "   - Investigate if different labels tend to have longer or shorter statements.\n",
    "\n",
    "4. **Basic Text Content Exploration**\n",
    "   - Identify the most common words and bigrams per label.\n",
    "   - Display a few random samples from each label to assess data quality.\n"
   ],
   "id": "21be1fbaf0de06f"
  },
  {
   "metadata": {},
   "cell_type": "code",
   "outputs": [],
   "execution_count": null,
   "source": "",
   "id": "e6ce08b77d1b2db0"
  }
 ],
 "metadata": {
  "kernelspec": {
   "display_name": "Python 3",
   "language": "python",
   "name": "python3"
  },
  "language_info": {
   "codemirror_mode": {
    "name": "ipython",
    "version": 2
   },
   "file_extension": ".py",
   "mimetype": "text/x-python",
   "name": "python",
   "nbconvert_exporter": "python",
   "pygments_lexer": "ipython2",
   "version": "2.7.6"
  }
 },
 "nbformat": 4,
 "nbformat_minor": 5
}
